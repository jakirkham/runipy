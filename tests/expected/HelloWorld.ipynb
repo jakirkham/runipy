{
 "metadata": {
  "name": "",
  "signature": "sha256:77e082f6bb894d80103fd9d63b775ec47224ef1730f1bb3eb62a9a67eef8d71c"
 },
 "nbformat": 3,
 "nbformat_minor": 0,
 "worksheets": [
  {
   "cells": [
    {
     "cell_type": "code",
     "collapsed": false,
     "input": [
      "from __future__ import print_function\n",
      "\n",
      "print(\"Hello World\")"
     ],
     "language": "python",
     "metadata": {},
     "outputs": [
      {
       "output_type": "stream",
       "stream": "stdout",
       "text": [
        "Hello World\n"
       ]
      }
     ],
     "prompt_number": 1
    }
   ],
   "metadata": {}
  }
 ]
}